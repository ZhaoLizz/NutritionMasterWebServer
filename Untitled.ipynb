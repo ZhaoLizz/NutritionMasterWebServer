{
 "cells": [
  {
   "cell_type": "code",
   "execution_count": 1,
   "metadata": {},
   "outputs": [],
   "source": [
    "from mainapp.models import *\n",
    "# from mainapp.serializers import *\n",
    "from utils.read_dataset import *\n",
    "import pandas as pd\n",
    "import numpy as np"
   ]
  },
  {
   "cell_type": "code",
   "execution_count": null,
   "metadata": {
    "scrolled": false
   },
   "outputs": [],
   "source": [
    "# 测试数据库有没有缺失数据\n",
    "count_i = 0\n",
    "dir = data_set_dir + 'menuset'\n",
    "csv_list = os.listdir(dir)\n",
    "for menu_file in csv_list:\n",
    "    file_path = dir + '\\\\' + menu_file\n",
    "    table = pd.read_csv(file_path, encoding='gbk', engine='python')\n",
    "    table_size = len(table)\n",
    "    for i in range(table_size):\n",
    "        menu_name = table.loc[i]['菜名']\n",
    "        count_i +=1\n",
    "        print(menu_name,Menu.objects.filter(name=menu_name),count_i)\n",
    "        if(Menu.objects.filter(name=menu_name).count() != 1):\n",
    "            print('error : name not exist',menu_name,menu_count)\n",
    "print(Menu.objects.all().count()) \n",
    "print('last',count)"
   ]
  },
  {
   "cell_type": "code",
   "execution_count": null,
   "metadata": {},
   "outputs": [],
   "source": [
    "# 查询条件:或\n",
    "from django.db.models import Q\n",
    "Menu.objects.filter(Q(calorie = -1) | Q(calorie = 0)).count()"
   ]
  },
  {
   "cell_type": "code",
   "execution_count": 5,
   "metadata": {},
   "outputs": [],
   "source": [
    "path= 'C:\\\\Users\\\\Administrator\\\\Documents\\\\Study\\\\foodsetfinal\\\\more\\\\'\n",
    "table = pd.read_csv(path  + 'occupation_with_new_columns.csv',encoding='gbk')\n",
    "for index,row in table.iterrows():\n",
    "    occupation = Occupation.objects.get(occupation_name=row['occupation'])\n",
    "    element = Element(\n",
    "        calorie = row['calorie'],\n",
    "        carbohydrate = row['carbohydrate'],\n",
    "        fat = row['fat'],\n",
    "        protein = row['protein'],\n",
    "        cellulose = row['cellulose'],\n",
    "        vitaminA = row['vitaminA'],\n",
    "        vitaminB1 = row['vitaminB1'],\n",
    "        vitaminB2 = row['vitaminB2'],\n",
    "        vitaminB6 = row['vitaminB6'],\n",
    "        vitaminC = row['vitaminC'],\n",
    "        vitaminE = row['vitaminE'],\n",
    "        carotene = row['carotene'],\n",
    "        cholesterol = row['cholesterol'],\n",
    "        Mg = row['Mg'],\n",
    "        Ca = row['Ca'],\n",
    "        Fe = row['Fe'],\n",
    "        Zn = row['Zn'],\n",
    "        Cu = row['Cu'],\n",
    "        Mn = row['Mn'],\n",
    "        K = row['K'],\n",
    "        P = row['P'],\n",
    "        Na = row['Na'],\n",
    "        Se = row['Se']\n",
    "    )\n",
    "    element.save()\n",
    "    occupation.elements = element\n",
    "    occupation.save()"
   ]
  }
 ],
 "metadata": {
  "kernelspec": {
   "display_name": "Django Shell-Plus",
   "language": "python",
   "name": "django_extensions"
  },
  "language_info": {
   "codemirror_mode": {
    "name": "ipython",
    "version": 3
   },
   "file_extension": ".py",
   "mimetype": "text/x-python",
   "name": "python",
   "nbconvert_exporter": "python",
   "pygments_lexer": "ipython3",
   "version": "3.6.5"
  }
 },
 "nbformat": 4,
 "nbformat_minor": 2
}
