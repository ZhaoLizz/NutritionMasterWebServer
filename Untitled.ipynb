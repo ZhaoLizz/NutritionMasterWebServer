{
 "cells": [
  {
   "cell_type": "code",
   "execution_count": 1,
   "metadata": {},
   "outputs": [],
   "source": [
    "from mainapp.models import *\n",
    "# from mainapp.serializers import *\n",
    "from utils.read_dataset import *\n",
    "import pandas as pd\n",
    "import numpy as np"
   ]
  },
  {
   "cell_type": "code",
   "execution_count": null,
   "metadata": {
    "scrolled": false
   },
   "outputs": [],
   "source": [
    "# 测试数据库有没有缺失数据\n",
    "count_i = 0\n",
    "dir = data_set_dir + 'menuset'\n",
    "csv_list = os.listdir(dir)\n",
    "for menu_file in csv_list:\n",
    "    file_path = dir + '\\\\' + menu_file\n",
    "    table = pd.read_csv(file_path, encoding='gbk', engine='python')\n",
    "    table_size = len(table)\n",
    "    for i in range(table_size):\n",
    "        menu_name = table.loc[i]['菜名']\n",
    "        count_i +=1\n",
    "        print(menu_name,Menu.objects.filter(name=menu_name),count_i)\n",
    "        if(Menu.objects.filter(name=menu_name).count() != 1):\n",
    "            print('error : name not exist',menu_name,menu_count)\n",
    "print(Menu.objects.all().count()) \n",
    "print('last',count)"
   ]
  },
  {
   "cell_type": "code",
   "execution_count": null,
   "metadata": {},
   "outputs": [],
   "source": [
    "# 查询条件:或\n",
    "from django.db.models import Q\n",
    "Menu.objects.filter(Q(calorie = -1) | Q(calorie = 0)).count()"
   ]
  },
  {
   "cell_type": "code",
   "execution_count": null,
   "metadata": {},
   "outputs": [],
   "source": [
    "path= 'C:\\\\Users\\\\Administrator\\\\Documents\\\\Study\\\\foodsetfinal\\\\more\\\\'\n",
    "table = pd.read_csv(path  + 'occupation_with_new_columns.csv',encoding='gbk')\n",
    "for index,row in table.iterrows():\n",
    "    occupation = Occupation.objects.get(occupation_name=row['occupation'])\n",
    "    element = Element(\n",
    "        calorie = row['calorie'],\n",
    "        carbohydrate = row['carbohydrate'],\n",
    "        fat = row['fat'],\n",
    "        protein = row['protein'],\n",
    "        cellulose = row['cellulose'],\n",
    "        vitaminA = row['vitaminA'],\n",
    "        vitaminB1 = row['vitaminB1'],\n",
    "        vitaminB2 = row['vitaminB2'],\n",
    "        vitaminB6 = row['vitaminB6'],\n",
    "        vitaminC = row['vitaminC'],\n",
    "        vitaminE = row['vitaminE'],\n",
    "        carotene = row['carotene'],\n",
    "        cholesterol = row['cholesterol'],\n",
    "        Mg = row['Mg'],\n",
    "        Ca = row['Ca'],\n",
    "        Fe = row['Fe'],\n",
    "        Zn = row['Zn'],\n",
    "        Cu = row['Cu'],\n",
    "        Mn = row['Mn'],\n",
    "        K = row['K'],\n",
    "        P = row['P'],\n",
    "        Na = row['Na'],\n",
    "        Se = row['Se']\n",
    "    )\n",
    "    element.save()\n",
    "    occupation.elements = element\n",
    "    occupation.save()"
   ]
  },
  {
   "cell_type": "code",
   "execution_count": null,
   "metadata": {},
   "outputs": [],
   "source": [
    "path= 'C:\\\\Users\\\\Administrator\\\\Documents\\\\Study\\\\foodsetfinal\\\\more\\\\'\n",
    "table = pd.read_csv(path  + 'physique_with_new_columns.csv',encoding='gbk')\n",
    "for index,row in table.iterrows():\n",
    "    physique = Physique.objects.get(physical_name=row['physique'])\n",
    "    element = Element(\n",
    "        calorie = row['calorie'],\n",
    "        carbohydrate = row['carbohydrate'],\n",
    "        fat = row['fat'],\n",
    "        protein = row['protein'],\n",
    "        cellulose = row['cellulose'],\n",
    "        vitaminA = row['vitaminA'],\n",
    "        vitaminB1 = row['vitaminB1'],\n",
    "        vitaminB2 = row['vitaminB2'],\n",
    "        vitaminB6 = row['vitaminB6'],\n",
    "        vitaminC = row['vitaminC'],\n",
    "        vitaminE = row['vitaminE'],\n",
    "        carotene = row['carotene'],\n",
    "        cholesterol = row['cholesterol'],\n",
    "        Mg = row['Mg'],\n",
    "        Ca = row['Ca'],\n",
    "        Fe = row['Fe'],\n",
    "        Zn = row['Zn'],\n",
    "        Cu = row['Cu'],\n",
    "        Mn = row['Mn'],\n",
    "        K = row['K'],\n",
    "        P = row['P'],\n",
    "        Na = row['Na'],\n",
    "        Se = row['Se']\n",
    "    )\n",
    "    element.save()\n",
    "    physique.elements = element\n",
    "    physique.save()"
   ]
  },
  {
   "cell_type": "code",
   "execution_count": null,
   "metadata": {},
   "outputs": [],
   "source": [
    "path= 'C:\\\\Users\\\\Administrator\\\\Documents\\\\Study\\\\foodsetfinal\\\\more\\\\'\n",
    "table = pd.read_csv(path  + 'classification_illness.csv',encoding='gbk')\n",
    "for index,row in table.iterrows():\n",
    "    print(row['classification'])\n",
    "    menu_classification = MenuClassification.objects.get(classification=row['classification'])\n",
    "    element = Element(\n",
    "        calorie = row['calorie'],\n",
    "        carbohydrate = row['carbohydrate'],\n",
    "        fat = row['fat'],\n",
    "        protein = row['protein'],\n",
    "        cellulose = row['cellulose'],\n",
    "        vitaminA = row['vitaminA'],\n",
    "        vitaminB1 = row['vitaminB1'],\n",
    "        vitaminB2 = row['vitaminB2'],\n",
    "        vitaminB6 = row['vitaminB6'],\n",
    "        vitaminC = row['vitaminC'],\n",
    "        vitaminE = row['vitaminE'],\n",
    "        carotene = row['carotene'],\n",
    "        cholesterol = row['cholesterol'],\n",
    "        Mg = row['Mg'],\n",
    "        Ca = row['Ca'],\n",
    "        Fe = row['Fe'],\n",
    "        Zn = row['Zn'],\n",
    "        Cu = row['Cu'],\n",
    "        Mn = row['Mn'],\n",
    "        K = row['K'],\n",
    "        P = row['P'],\n",
    "        Na = row['Na'],\n",
    "        Se = row['Se']\n",
    "    )\n",
    "    element.save()\n",
    "    Illness.objects.create(menu_classification=menu_classification,elements=element)"
   ]
  },
  {
   "cell_type": "code",
   "execution_count": null,
   "metadata": {},
   "outputs": [],
   "source": [
    "path= 'C:\\\\Users\\\\Administrator\\\\Documents\\\\Study\\\\foodsetfinal\\\\more\\\\'\n",
    "table = pd.read_csv(path  + 'classification_illness.csv',encoding='gbk')\n",
    "for index,row in table.iterrows():\n",
    "    if(row['classification'] == '炎症食谱'):\n",
    "        classificatiosn = MenuClassification.objects.filter(classification__icontains='炎')\n",
    "        for classi in classificatiosn:\n",
    "            print(classi)\n",
    "            element = Element(\n",
    "        calorie = row['calorie'],\n",
    "        carbohydrate = row['carbohydrate'],\n",
    "        fat = row['fat'],\n",
    "        protein = row['protein'],\n",
    "        cellulose = row['cellulose'],\n",
    "        vitaminA = row['vitaminA'],\n",
    "        vitaminB1 = row['vitaminB1'],\n",
    "        vitaminB2 = row['vitaminB2'],\n",
    "        vitaminB6 = row['vitaminB6'],\n",
    "        vitaminC = row['vitaminC'],\n",
    "        vitaminE = row['vitaminE'],\n",
    "        carotene = row['carotene'],\n",
    "        cholesterol = row['cholesterol'],\n",
    "        Mg = row['Mg'],\n",
    "        Ca = row['Ca'],\n",
    "        Fe = row['Fe'],\n",
    "        Zn = row['Zn'],\n",
    "        Cu = row['Cu'],\n",
    "        Mn = row['Mn'],\n",
    "        K = row['K'],\n",
    "        P = row['P'],\n",
    "        Na = row['Na'],\n",
    "        Se = row['Se']\n",
    "        )\n",
    "            element.save()\n",
    "            Illness.objects.create(menu_classification=classi,elements=element)\n",
    "            \n",
    "    "
   ]
  },
  {
   "cell_type": "code",
   "execution_count": null,
   "metadata": {},
   "outputs": [],
   "source": [
    "# 导入menu缺失的数据\n",
    "path= 'C:\\\\Users\\\\Administrator\\\\Documents\\\\Study\\\\foodsetfinal\\\\more\\\\'\n",
    "table = pd.read_csv(path  + 'menu_names_with_element.csv',encoding='gbk')\n",
    "table.calorie.fillna(0,inplace=True)\n",
    "table.img_url.fillna('',inplace=True)\n",
    "for index,row in table.iterrows():\n",
    "    menus = Menu.objects.filter(name=row['name'])\n",
    "    # 去除数据库中没有存的menu\n",
    "    if(menus.count() > 0):\n",
    "        menu = menus[0]\n",
    "        if(menu.calorie == 0 or menu.calorie == -1 or menu.calorie == 2):\n",
    "            print('calorie 0: ',menu,row['calorie'])\n",
    "            menu.calorie = row['calorie']\n",
    "            menu.save()\n",
    "        if(menu.image_url == '' or menu.image_url == 0):\n",
    "            print('url 0: ',menu,row['img_url'])\n",
    "            menu.image_url = row['img_url']\n",
    "            menu.save()\n",
    "            \n"
   ]
  },
  {
   "cell_type": "code",
   "execution_count": null,
   "metadata": {},
   "outputs": [],
   "source": [
    "# 导入foodmaterial的elements\n",
    "path= 'C:\\\\Users\\\\Administrator\\\\Documents\\\\Study\\\\foodsetfinal\\\\more\\\\'\n",
    "table = pd.read_csv(path  + 'material_names_with_element.csv',encoding='gbk')\n",
    "table.fillna(0,inplace=True)\n",
    "for index,row in table.iterrows():  \n",
    "    materials = FoodMaterial.objects.filter(material_name=row['material_name'])\n",
    "    if(materials.count() > 0):\n",
    "        material = materials[0]\n",
    "        print(material)\n",
    "        element = Element(\n",
    "        calorie = row['calorie'],\n",
    "        carbohydrate = row['carbohydrate'],\n",
    "        fat = row['fat'],\n",
    "        protein = row['protein'],\n",
    "        cellulose = row['cellulose'],\n",
    "        vitaminA = row['vitaminA'],\n",
    "#         vitaminB1 = row['vitaminB1'],\n",
    "        vitaminB2 = row['vitaminB2'],\n",
    "#         vitaminB6 = row['vitaminB6'],\n",
    "        vitaminC = row['vitaminC'],\n",
    "        vitaminE = row['vitaminE'],\n",
    "        carotene = row['carotene'],\n",
    "        cholesterol = row['cholesterol'],\n",
    "        Mg = row['Mg'],\n",
    "        Ca = row['Ca'],\n",
    "        Fe = row['Fe'],\n",
    "        Zn = row['Zn'],\n",
    "        Cu = row['Cu'],\n",
    "        Mn = row['Mn'],\n",
    "        K = row['K'],\n",
    "        P = row['P'],\n",
    "        Na = row['Na'],\n",
    "        Se = row['Se'],\n",
    "        niacin = row['niacin'],\n",
    "        thiamine = row['thiamine']\n",
    "        )\n",
    "        element.save()\n",
    "        material.elements = element\n",
    "        material.save()\n",
    "        \n",
    "    "
   ]
  },
  {
   "cell_type": "code",
   "execution_count": null,
   "metadata": {},
   "outputs": [],
   "source": [
    "# 根据foodmaterial每个element相加计算menu的element值\n",
    "for menu in Menu.objects.all():\n",
    "    print(menu)\n",
    "    menu_element = Element()\n",
    "    # 遍历menu对应的所有material\n",
    "    for cookquantity in menu.cookquantity_set.all():\n",
    "        material = cookquantity.material\n",
    "        material_elements = material.elements\n",
    "        menu_element += material_elements\n",
    "    try:\n",
    "        count = menu.cookquantity_set.count() # 食材的数量\n",
    "        menu_element.calorie = menu_element.calorie / count if menu_element.calorie != 0 else 0\n",
    "        menu_element.carbohydrate = menu_element.carbohydrate / count  if menu_element.carbohydrate != 0 else 0\n",
    "        menu_element.fat = menu_element.fat / count  if menu_element.calorie != 0 else 0\n",
    "        menu_element.protein = menu_element.protein / count if menu_element.protein != 0 else 0\n",
    "        menu_element.cellulose = menu_element.cellulose / count if menu_element.cellulose != 0 else 0\n",
    "        menu_element.vitaminA = menu_element.vitaminA / count if menu_element.vitaminA != 0 else 0\n",
    "        menu_element.vitaminB1 = menu_element.vitaminB1 / count if menu_element.vitaminB1 != 0 else 0\n",
    "        menu_element.vitaminB2 = menu_element.vitaminB2 / count if menu_element.vitaminB2 != 0 else 0\n",
    "        menu_element.vitaminB6 = menu_element.vitaminB6 / count if menu_element.vitaminB6 != 0 else 0\n",
    "        menu_element.vitaminC = menu_element.vitaminC / count if menu_element.vitaminC != 0 else 0\n",
    "        menu_element.vitaminE = menu_element.vitaminE / count if menu_element.vitaminE != 0 else 0\n",
    "        menu_element.carotene = menu_element.carotene / count if menu_element.carotene != 0 else 0\n",
    "        menu_element.cholesterol = menu_element.cholesterol / count if menu_element.cholesterol != 0 else 0\n",
    "        menu_element.Mg = menu_element.Mg / count if menu_element.Mg != 0 else 0\n",
    "        menu_element.Ca = menu_element.Ca / count if menu_element.Ca != 0 else 0\n",
    "        menu_element.Fe = menu_element.Fe / count if menu_element.Fe != 0 else 0\n",
    "        menu_element.Zn = menu_element.Zn / count if menu_element.Zn != 0 else 0\n",
    "        menu_element.Cu = menu_element.Cu / count if menu_element.Cu != 0 else 0\n",
    "        menu_element.Mn = menu_element.Mn / count if menu_element.Mn != 0 else 0\n",
    "        menu_element.K = menu_element.K / count if menu_element.K != 0 else 0\n",
    "        menu_element.P = menu_element.P / count if menu_element.P != 0 else 0\n",
    "        menu_element.Na = menu_element.Na / count if menu_element.Na != 0 else 0\n",
    "        menu_element.Se = menu_element.Se / count if menu_element.Se != 0 else 0\n",
    "        menu_element.niacin = menu_element.niacin / count if menu_element.niacin != 0 else 0\n",
    "        menu_element.thiamine = menu_element.thiamine / count if menu_element.thiamine != 0 else 0\n",
    "        menu_element.save()\n",
    "    except:\n",
    "        pass\n",
    "    menu.elements = menu_element\n",
    "    menu.save()"
   ]
  },
  {
   "cell_type": "code",
   "execution_count": null,
   "metadata": {},
   "outputs": [],
   "source": [
    "# 导入职业的bmi运动频率\n",
    "path= 'C:\\\\Users\\\\Administrator\\\\Documents\\\\Study\\\\foodsetfinal\\\\more\\\\'\n",
    "table = pd.read_csv(path  + 'occupation_bmi.csv',encoding='gbk')\n",
    "bmi3 = table['多动的']\n",
    "bmi2 = table['适中的']\n",
    "bmi1 = table['少动的']\n",
    "bmi3.dropna(inplace=True)\n",
    "bmi2.dropna(inplace=True)\n",
    "bmi1.dropna(inplace=True)\n",
    "for occu_name in bmi3:\n",
    "    occupation = Occupation.objects.get(occupation_name=occu_name)\n",
    "    occupation.bmi_classification = 3\n",
    "    occupation.save()\n",
    "\n",
    "for occu_name in bmi2:\n",
    "    occupation = Occupation.objects.get(occupation_name=occu_name)\n",
    "    occupation.bmi_classification = 2\n",
    "    occupation.save()\n",
    "\n",
    "for occu_name in bmi1:\n",
    "    occupation = Occupation.objects.get(occupation_name=occu_name)\n",
    "    occupation.bmi_classification = 1\n",
    "    occupation.save()    "
   ]
  },
  {
   "cell_type": "code",
   "execution_count": 15,
   "metadata": {},
   "outputs": [
    {
     "data": {
      "text/plain": [
       "(1, {'mainapp.Element': 1})"
      ]
     },
     "execution_count": 15,
     "metadata": {},
     "output_type": "execute_result"
    }
   ],
   "source": [
    "# MyUser.objects.get(username='test4').eaten_elements.delete()\n",
    "# Element.objects.filter(id=12121)\n",
    "\n",
    "user = MyUser.objects.get(username='test5')\n",
    "user.eaten_elements.delete()\n"
   ]
  },
  {
   "cell_type": "code",
   "execution_count": 20,
   "metadata": {},
   "outputs": [
    {
     "data": {
      "text/plain": [
       "<QuerySet []>"
      ]
     },
     "execution_count": 20,
     "metadata": {},
     "output_type": "execute_result"
    }
   ],
   "source": [
    "user = MyUser.objects.get(username='test5')\n",
    "user.eaten_elements\n",
    "Element.objects.filter(id=12120)"
   ]
  },
  {
   "cell_type": "code",
   "execution_count": 10,
   "metadata": {},
   "outputs": [
    {
     "data": {
      "text/plain": [
       "164.8"
      ]
     },
     "execution_count": 10,
     "metadata": {},
     "output_type": "execute_result"
    }
   ],
   "source": [
    "Menu.objects.get(name='决明绿豆汤').elements.calorie"
   ]
  }
 ],
 "metadata": {
  "kernelspec": {
   "display_name": "Django Shell-Plus",
   "language": "python",
   "name": "django_extensions"
  },
  "language_info": {
   "codemirror_mode": {
    "name": "ipython",
    "version": 3
   },
   "file_extension": ".py",
   "mimetype": "text/x-python",
   "name": "python",
   "nbconvert_exporter": "python",
   "pygments_lexer": "ipython3",
   "version": "3.6.5"
  }
 },
 "nbformat": 4,
 "nbformat_minor": 2
}
