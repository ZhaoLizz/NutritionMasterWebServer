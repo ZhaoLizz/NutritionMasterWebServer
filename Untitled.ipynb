{
 "cells": [
  {
   "cell_type": "code",
   "execution_count": 1,
   "metadata": {},
   "outputs": [],
   "source": [
    "from mainapp.models import *\n",
    "from mainapp.serializers import *\n",
    "from utils.read_dataset import *\n",
    "import pandas as pd\n",
    "data_set_dir = 'C:\\\\Users\\\\Administrator\\\\Documents\\\\Study\\\\foodset\\\\'\n"
   ]
  },
  {
   "cell_type": "code",
   "execution_count": 8,
   "metadata": {},
   "outputs": [
    {
     "data": {
      "text/plain": [
       "<QuerySet [<FoodMaterial: 冰糖（红糖）>, <FoodMaterial: 小黑木耳>, <FoodMaterial: 山楂>, <FoodMaterial: 山楂(干)>, <FoodMaterial: 山楂干>, <FoodMaterial: 山楂果茶>, <FoodMaterial: 山楂片>, <FoodMaterial: 山楂糕>, <FoodMaterial: 山楂脯>, <FoodMaterial: 干山楂>, <FoodMaterial: 干山楂片>, <FoodMaterial: 干黄豆>, <FoodMaterial: 干黄豆（一次性1杯子）>, <FoodMaterial: 新鲜山楂>, <FoodMaterial: 新鲜山楂500g>, <FoodMaterial: 新鲜黄豆 >, <FoodMaterial: 无籽葡萄>, <FoodMaterial: 有机黑豆>, <FoodMaterial: 水发黄豆>, <FoodMaterial: 水发黑木耳>, '...(remaining elements truncated)...']>"
      ]
     },
     "execution_count": 8,
     "metadata": {},
     "output_type": "execute_result"
    }
   ],
   "source": [
    "physique = Physique.objects.all()[0]\n",
    "physique.cure_material.all()\n"
   ]
  }
 ],
 "metadata": {
  "kernelspec": {
   "display_name": "Django Shell-Plus",
   "language": "python",
   "name": "django_extensions"
  },
  "language_info": {
   "codemirror_mode": {
    "name": "ipython",
    "version": 3
   },
   "file_extension": ".py",
   "mimetype": "text/x-python",
   "name": "python",
   "nbconvert_exporter": "python",
   "pygments_lexer": "ipython3",
   "version": "3.6.5"
  }
 },
 "nbformat": 4,
 "nbformat_minor": 2
}
