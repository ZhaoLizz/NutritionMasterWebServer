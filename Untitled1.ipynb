{
 "cells": [
  {
   "cell_type": "code",
   "execution_count": 1,
   "metadata": {},
   "outputs": [],
   "source": [
    "from utils.read_dataset import *\n",
    "import pandas as pd\n",
    "from mainapp.models import *\n",
    "from mainapp.serializers import *"
   ]
  },
  {
   "cell_type": "code",
   "execution_count": 2,
   "metadata": {},
   "outputs": [
    {
     "name": "stdout",
     "output_type": "stream",
     "text": [
      "log menu_file:  丰胸.csv\n",
      "log  黑木耳枸杞猪圈汤\n",
      "log  甜酒酿红枣温泉蛋\n",
      "log  红焖前蹄\n",
      "log  鸡爪红焖黄豆\n",
      "log  茄汁黄豆\n",
      "log  木瓜奶冻\n",
      "log  青木瓜排骨汤\n",
      "log  木瓜粥\n",
      "log  清炖猪蹄\n",
      "log  山药炖猪蹄\n",
      "log  雪梨鲜奶炖木瓜\n",
      "log  木瓜炖带鱼\n",
      "log  豆浆炖羊肉\n",
      "log  黄精鳝片\n",
      "log  木瓜鲤鱼煲\n",
      "log  莴笋炒牛肉丝\n",
      "log  猪尾花生木瓜汤\n",
      "log  花旗参木瓜排骨煲\n",
      "log  丰胸美食木瓜叉烧八爪鱼\n",
      "log  竹笋鲜虾肉扒\n",
      "log  排骨黑豆汤\n",
      "log  木瓜排骨\n",
      "log  木瓜炖雪蛤\n",
      "log  丰胸美容的木瓜椰汁西米露\n",
      "log  日式瘦身丰胸美食纳豆\n",
      "log  美颜红酒木瓜饮\n",
      "log  木瓜酸奶昔\n",
      "log  红焖阿胶猪蹄\n",
      "log  美容丰胸靓汤木瓜鱼骨汤\n",
      "log  经典美颜滋补汤品-墨鱼花生猪手汤\n",
      "log  美颜甜汤南北杏仁木瓜银耳炖\n",
      "log  美容丰胸野山椒泡凤爪\n",
      "log  木瓜红枣米酒牛奶羹\n",
      "log  丰胸养颜奶白浓稠猪手汤\n",
      "log  木瓜煲排骨\n",
      "log  木瓜黄鱼汤\n",
      "log  椰汁木瓜炖雪蛤\n",
      "log  女士靓汤黄芪虾仁汤\n",
      "log  美味甜品橙汁木瓜\n",
      "log  木瓜燕窝炖雪蛤\n",
      "log  丰胸美容的木瓜海鲜盅\n",
      "log  瘦身丰胸菜谱-芝麻肉丝炒牛蒡\n",
      "log  丰胸美食玉米黑芝麻炒北极贝\n",
      "log  秋季丰胸瘦身的多春鱼豆腐盅\n",
      "log  最滋养女人的木瓜牛奶炖雪蛤\n",
      "log  丰胸美食人参猪蹄冻\n",
      "log  丰胸美白的木瓜双耳牛奶红枣羹\n",
      "log  丰胸菜谱香脆牛肉卷果\n",
      "log  丰胸美食麦香北极虾\n",
      "log  丰胸菜谱奶酪鲜虾派\n",
      "done C:\\Users\\Administrator\\Documents\\Study\\foodset\\menuset\\丰胸.csv move to C:\\Users\\Administrator\\Documents\\Study\\foodset\\done\\\n"
     ]
    }
   ],
   "source": [
    "parse_menu()\n"
   ]
  }
 ],
 "metadata": {
  "kernelspec": {
   "display_name": "Django Shell-Plus",
   "language": "python",
   "name": "django_extensions"
  },
  "language_info": {
   "codemirror_mode": {
    "name": "ipython",
    "version": 3
   },
   "file_extension": ".py",
   "mimetype": "text/x-python",
   "name": "python",
   "nbconvert_exporter": "python",
   "pygments_lexer": "ipython3",
   "version": "3.6.5"
  }
 },
 "nbformat": 4,
 "nbformat_minor": 2
}
