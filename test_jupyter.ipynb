{
 "cells": [
  {
   "cell_type": "code",
   "execution_count": 41,
   "metadata": {},
   "outputs": [],
   "source": [
    "import numpy as np"
   ]
  },
  {
   "cell_type": "code",
   "execution_count": 19,
   "metadata": {},
   "outputs": [
    {
     "data": {
      "text/plain": [
       "<MyUser: test5>"
      ]
     },
     "execution_count": 19,
     "metadata": {},
     "output_type": "execute_result"
    }
   ],
   "source": [
    "test5  = MyUser.objects.get(username='test5')\n",
    "test5"
   ]
  },
  {
   "cell_type": "code",
   "execution_count": 82,
   "metadata": {},
   "outputs": [
    {
     "name": "stdout",
     "output_type": "stream",
     "text": [
      "[<QuerySet [<Illness: Illness object (补阳食谱)>, <Illness: Illness object (青少年食谱)>]>, <Physique: 气虚质>, None]\n",
      "[<QuerySet [<Illness: Illness object (补阳食谱)>, <Illness: Illness object (青少年食谱)>]>, <Physique: 气虚质>]\n",
      "<class 'mainapp.models.Physique'>\n"
     ]
    }
   ],
   "source": [
    "array = [test5.illness.all(),test5.physical_name,test5.occupation_name]\n",
    "print(array)\n",
    "array = [i for i in array if i is not None] # 去除None\n",
    "print(array)"
   ]
  },
  {
   "cell_type": "code",
   "execution_count": 144,
   "metadata": {},
   "outputs": [
    {
     "data": {
      "text/plain": [
       "<Physique: 气虚质>"
      ]
     },
     "execution_count": 144,
     "metadata": {},
     "output_type": "execute_result"
    }
   ],
   "source": [
    "random_int = np.random.randint(len(array))\n",
    "message = array[random_int]\n",
    "message"
   ]
  },
  {
   "cell_type": "code",
   "execution_count": 91,
   "metadata": {},
   "outputs": [
    {
     "name": "stdout",
     "output_type": "stream",
     "text": [
      "<class 'django.db.models.query.QuerySet'>\n",
      "<class 'mainapp.models.Physique'>\n",
      "<class 'django.db.models.query.QuerySet'>\n"
     ]
    }
   ],
   "source": [
    "# 对随机选到的元素进行类型判断\n",
    "print(type(array[0]))\n",
    "print(type(Physique.objects.all()[0]))# <class 'mainapp.models.Physique'>\n",
    "print(type(Illness.objects.all())) # <class 'django.db.models.query.QuerySet'>\n",
    "\n",
    "lambda x : {\n",
    "    type(Physique.objects.all()[0]):\n",
    "}"
   ]
  }
 ],
 "metadata": {
  "kernelspec": {
   "display_name": "Django Shell-Plus",
   "language": "python",
   "name": "django_extensions"
  },
  "language_info": {
   "codemirror_mode": {
    "name": "ipython",
    "version": 3
   },
   "file_extension": ".py",
   "mimetype": "text/x-python",
   "name": "python",
   "nbconvert_exporter": "python",
   "pygments_lexer": "ipython3",
   "version": "3.6.5"
  }
 },
 "nbformat": 4,
 "nbformat_minor": 2
}
