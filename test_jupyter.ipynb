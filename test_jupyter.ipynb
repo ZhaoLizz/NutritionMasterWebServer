{
 "cells": [
  {
   "cell_type": "code",
   "execution_count": 1,
   "metadata": {},
   "outputs": [],
   "source": [
    "import numpy as np"
   ]
  },
  {
   "cell_type": "code",
   "execution_count": 2,
   "metadata": {},
   "outputs": [
    {
     "data": {
      "text/plain": [
       "<Menu: 烩两色虾丸>"
      ]
     },
     "execution_count": 2,
     "metadata": {},
     "output_type": "execute_result"
    }
   ],
   "source": [
    "menu = Menu.objects.all()[0]\n",
    "menu"
   ]
  },
  {
   "cell_type": "code",
   "execution_count": 3,
   "metadata": {},
   "outputs": [
    {
     "data": {
      "text/plain": [
       "<QuerySet [<CookQuantity: 烩两色虾丸 -- 对虾 -- 500>, <CookQuantity: 烩两色虾丸 -- 肥膘肉 -- 100>, <CookQuantity: 烩两色虾丸 -- 菠菜 -- 100>, <CookQuantity: 烩两色虾丸 -- 鸡蛋清 -- 50>, <CookQuantity: 烩两色虾丸 -- 猪油(炼制) -- 50>, <CookQuantity: 烩两色虾丸 -- 盐 -- 10>, <CookQuantity: 烩两色虾丸 -- 胡椒粉 -- 2>, <CookQuantity: 烩两色虾丸 -- 味精 -- 10>, <CookQuantity: 烩两色虾丸 -- 料酒 -- 15>, <CookQuantity: 烩两色虾丸 -- 番茄酱 -- 50>, <CookQuantity: 烩两色虾丸 -- 大葱 -- 25>, <CookQuantity: 烩两色虾丸 -- 姜 -- 20>, <CookQuantity: 烩两色虾丸 -- 淀粉(玉米) -- 50>]>"
      ]
     },
     "execution_count": 3,
     "metadata": {},
     "output_type": "execute_result"
    }
   ],
   "source": [
    "menu.cookquantity_set.all() # 菜的所有原料"
   ]
  },
  {
   "cell_type": "code",
   "execution_count": 11,
   "metadata": {},
   "outputs": [
    {
     "name": "stdout",
     "output_type": "stream",
     "text": [
      "对虾 肥膘肉 菠菜\n"
     ]
    }
   ],
   "source": [
    "material1,material2,material3 = FoodMaterial.objects.all()[:3]\n",
    "print(material1,material2,material3)"
   ]
  },
  {
   "cell_type": "code",
   "execution_count": 5,
   "metadata": {},
   "outputs": [
    {
     "data": {
      "text/plain": [
       "<QuerySet [<CookQuantity: 烩两色虾丸 -- 对虾 -- 500>, <CookQuantity: 烩两色虾丸 -- 肥膘肉 -- 100>, <CookQuantity: 烩两色虾丸 -- 菠菜 -- 100>, <CookQuantity: 烩两色虾丸 -- 鸡蛋清 -- 50>, <CookQuantity: 烩两色虾丸 -- 猪油(炼制) -- 50>, <CookQuantity: 烩两色虾丸 -- 盐 -- 10>, <CookQuantity: 烩两色虾丸 -- 胡椒粉 -- 2>, <CookQuantity: 烩两色虾丸 -- 味精 -- 10>, <CookQuantity: 烩两色虾丸 -- 料酒 -- 15>, <CookQuantity: 烩两色虾丸 -- 番茄酱 -- 50>, <CookQuantity: 烩两色虾丸 -- 大葱 -- 25>, <CookQuantity: 烩两色虾丸 -- 姜 -- 20>, <CookQuantity: 烩两色虾丸 -- 淀粉(玉米) -- 50>]>"
      ]
     },
     "execution_count": 5,
     "metadata": {},
     "output_type": "execute_result"
    }
   ],
   "source": [
    "menu.cookquantity_set.all()"
   ]
  },
  {
   "cell_type": "code",
   "execution_count": 46,
   "metadata": {},
   "outputs": [],
   "source": [
    "# 解决方案 1: 连续查询, 配合反射调用\n",
    "Menu.objects.filter(cookquantity__material=material1) \\\n",
    "    .filter(cookquantity__material=material2)\\\n",
    "    .filter(cookquantity__material=material3)\n",
    "\n",
    "material_list = [material1,material2,material3] # 用户对食材连续拍摄后获取到的食材\n",
    "\n",
    "def get_menus_from_materials(material_list):\n",
    "    # 把material1从list中取出来\n",
    "    material1,material_list = material_list[0],material_list[1:] \n",
    "    # 首先查询material1对应的菜\n",
    "    query_set  = Menu.objects.filter(cookquantity__material=material1) \n",
    "    # 然后再在material1查询结果的基础上,继续查询这些菜中,包含material[i]的菜\n",
    "    for material in material_list:\n",
    "        fun_filter = getattr(query_set,'filter')\n",
    "        query_set = fun_filter(cookquantity__material=material)\n",
    "    return query_set\n",
    "\n",
    "\n",
    "# qs1 = Menu.objects.filter(cookquantity__material=material1)\n",
    "# hasattr(qs1,'filter')\n",
    "# func_filter = getattr(qs1,'filter')\n",
    "# func_filter(cookquantity__material=material2)\n",
    "# getattr(qs1,'filter')(cookquantity__material=material2)"
   ]
  },
  {
   "cell_type": "code",
   "execution_count": 26,
   "metadata": {},
   "outputs": [
    {
     "data": {
      "text/plain": [
       "<QuerySet [<FoodMaterial: 味精>, <FoodMaterial: 牛奶>, <FoodMaterial: 盐>, <FoodMaterial: 肥膘肉>, <FoodMaterial: 胡椒粉>, <FoodMaterial: 芡粉>, <FoodMaterial: 莼菜>, <FoodMaterial: 菠菜>, <FoodMaterial: 豆腐(北)>, <FoodMaterial: 金华火腿>, <FoodMaterial: 青豆>, <FoodMaterial: 鸡肉>, <FoodMaterial: 鸡胸脯肉>, <FoodMaterial: 鸡蛋清>]>"
      ]
     },
     "execution_count": 26,
     "metadata": {},
     "output_type": "execute_result"
    }
   ],
   "source": [
    "Menu.objects.get(name='莲蓬豆腐汤').cook_quantity.all()"
   ]
  },
  {
   "cell_type": "code",
   "execution_count": 35,
   "metadata": {},
   "outputs": [
    {
     "data": {
      "text/plain": [
       "<QuerySet [<Menu: 烩两色虾丸>]>"
      ]
     },
     "execution_count": 35,
     "metadata": {},
     "output_type": "execute_result"
    }
   ],
   "source": [
    "# 第二种方法,通过交集查询\n",
    "# 把material1从list中取出来\n",
    "material1,material_list = material_list[0],material_list[1:] \n",
    "# 首先查询material1对应的菜\n",
    "query_set  = Menu.objects.filter(cookquantity__material=material1)\n",
    "# 然后再在material1查询结果的基础上,继续查询这些菜中,包含material[i]的菜\n",
    "for material in material_list:\n",
    "    query_set = query_set.intersection(Menu.objects.filter(cookquantity__material=material))\n",
    "query_set\n",
    "    \n",
    "# qs1 = Menu.objects.filter(cookquantity__material=material1)\n",
    "# qs2 = Menu.objects.filter(cookquantity__material=material2)   \n",
    "# qs3 = Menu.objects.filter(cookquantity__material=material3)   \n",
    "# qs1.intersection(qs2,qs3)"
   ]
  },
  {
   "cell_type": "code",
   "execution_count": 39,
   "metadata": {},
   "outputs": [
    {
     "data": {
      "text/plain": [
       "300"
      ]
     },
     "execution_count": 39,
     "metadata": {},
     "output_type": "execute_result"
    }
   ],
   "source": []
  },
  {
   "cell_type": "code",
   "execution_count": 60,
   "metadata": {},
   "outputs": [
    {
     "name": "stdout",
     "output_type": "stream",
     "text": [
      "31\n"
     ]
    },
    {
     "data": {
      "text/plain": [
       "<QuerySet [<Menu: 木犀柿子>, <Menu: 番茄煎蛋>, <Menu: 番茄炒鸡蛋>, <Menu: 五彩豆腐>, <Menu: 黑椒茄汁牛肉饼>, <Menu: 番茄蛇粉汤>, <Menu: 罗马炸鸡>, <Menu: 豆腐汉堡包>, <Menu: 珍珠鸡排>, <Menu: 炸羊肉串>, <Menu: 双凤朝阳>, <Menu: 拌香鸡>, <Menu: 鱼香番茄过江>, <Menu: 番茄鱼片汤>, <Menu: 炒木犀柿子>, <Menu: 锅塌西红柿>, <Menu: 西红柿鸡蛋疙瘩汤>, <Menu: 油泼面>, <Menu: 西红柿打卤面>, <Menu: 鲜茄蛋花汤>, '...(remaining elements truncated)...']>"
      ]
     },
     "execution_count": 60,
     "metadata": {},
     "output_type": "execute_result"
    }
   ],
   "source": [
    "egg = FoodMaterial.objects.get(material_name='鸡蛋')\n",
    "xhs = FoodMaterial.objects.get(material_name='番茄')\n",
    "luobo = \n",
    "qs = get_menus_from_materials([egg,xhs])\n",
    "print(qs.count())\n",
    "qs"
   ]
  },
  {
   "cell_type": "code",
   "execution_count": 55,
   "metadata": {},
   "outputs": [
    {
     "data": {
      "text/plain": [
       "<QuerySet [<Menu: 西红柿鸡蛋汤>, <Menu: 瘦身版红菜汤>, <Menu: 西红柿炖豆腐>, <Menu: 傣味凉拌黄瓜>, <Menu: 健康早餐竹炭三明治>, <Menu: 豆腐卤>, <Menu: 减肥美食蕃薯芦笋鱼柳>, <Menu: 瘦身美食凤尾香梨番茄盅>, <Menu: 低脂美味快手的番茄烤大比目鱼>, <Menu: 田园蔬菜养生汤>, <Menu: 抗衰老的番茄鲜藕橙杯>, <Menu: 抗衰老美食菠菜三文鱼芥末堆>, <Menu: 凉拌莜面>, <Menu: 夏季护发防晒美食-苏子烤鸡腿配玉米奶酪西红柿>, <Menu: 美白防晒的番茄双笋银杏果>, <Menu: 家庭自制大西北风味羊肉粉汤>]>"
      ]
     },
     "execution_count": 55,
     "metadata": {},
     "output_type": "execute_result"
    }
   ],
   "source": [
    "material_list = [egg,xhs] # 用户对食材连续拍摄后获取到的食材\n",
    "Menu.objects.filter(cookquantity__material__in=[xhs]) # 模糊搜索"
   ]
  },
  {
   "cell_type": "code",
   "execution_count": 73,
   "metadata": {},
   "outputs": [
    {
     "name": "stdout",
     "output_type": "stream",
     "text": [
      "<QueryDict: {'a': ['1', '2', '3']}>\n",
      "<dict_itemiterator object at 0x00000170F7257638>\n"
     ]
    }
   ],
   "source": [
    "from django.http import QueryDict\n",
    "qd = QueryDict('a=1&a=2&a=3')\n",
    "print(qd)\n",
    "print(qd.lists())"
   ]
  }
 ],
 "metadata": {
  "kernelspec": {
   "display_name": "Django Shell-Plus",
   "language": "python",
   "name": "django_extensions"
  },
  "language_info": {
   "codemirror_mode": {
    "name": "ipython",
    "version": 3
   },
   "file_extension": ".py",
   "mimetype": "text/x-python",
   "name": "python",
   "nbconvert_exporter": "python",
   "pygments_lexer": "ipython3",
   "version": "3.6.5"
  }
 },
 "nbformat": 4,
 "nbformat_minor": 2
}
