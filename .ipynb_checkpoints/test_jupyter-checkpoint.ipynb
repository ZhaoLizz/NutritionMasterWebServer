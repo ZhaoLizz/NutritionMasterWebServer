{
 "cells": [
  {
   "cell_type": "code",
   "execution_count": 19,
   "metadata": {},
   "outputs": [
    {
     "data": {
      "text/plain": [
       "<MyUser: test5>"
      ]
     },
     "execution_count": 19,
     "metadata": {},
     "output_type": "execute_result"
    }
   ],
   "source": [
    "test5  = MyUser.objects.get(username='test5')\n",
    "test5"
   ]
  },
  {
   "cell_type": "code",
   "execution_count": 40,
   "metadata": {},
   "outputs": [
    {
     "name": "stdout",
     "output_type": "stream",
     "text": [
      "[<QuerySet [<Illness: Illness object (补阳食谱)>, <Illness: Illness object (青少年食谱)>]>, <Physique: 气虚质>, None]\n",
      "[<QuerySet [<Illness: Illness object (补阳食谱)>, <Illness: Illness object (青少年食谱)>]>, <Physique: 气虚质>]\n"
     ]
    }
   ],
   "source": [
    "array = [test5.illness.all(),test5.physical_name,test5.occupation_name]\n",
    "a = [i for i in array if i is not None]\n",
    "print(array)\n",
    "print(a)"
   ]
  },
  {
   "cell_type": "code",
   "execution_count": null,
   "metadata": {},
   "outputs": [],
   "source": []
  }
 ],
 "metadata": {
  "kernelspec": {
   "display_name": "Django Shell-Plus",
   "language": "python",
   "name": "django_extensions"
  },
  "language_info": {
   "codemirror_mode": {
    "name": "ipython",
    "version": 3
   },
   "file_extension": ".py",
   "mimetype": "text/x-python",
   "name": "python",
   "nbconvert_exporter": "python",
   "pygments_lexer": "ipython3",
   "version": "3.6.5"
  }
 },
 "nbformat": 4,
 "nbformat_minor": 2
}
